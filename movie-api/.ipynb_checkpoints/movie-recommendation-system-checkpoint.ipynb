{
 "cells": [
  {
   "cell_type": "code",
   "execution_count": 1,
   "id": "80ab7cff-e9bb-4af1-b014-f57ef559a2dd",
   "metadata": {},
   "outputs": [],
   "source": [
    "import numpy as np\n",
    "import pandas as pd\n",
    "import difflib\n",
    "from sklearn.feature_extraction.text import TfidfVectorizer\n",
    "from sklearn.metrics.pairwise import cosine_similarity"
   ]
  },
  {
   "cell_type": "code",
   "execution_count": 2,
   "id": "530865ac-6406-4160-8864-3fc35e675584",
   "metadata": {},
   "outputs": [],
   "source": [
    "movies_data = pd.read_csv('movies.csv')"
   ]
  },
  {
   "cell_type": "code",
   "execution_count": 41,
   "id": "e4be7b28-12a2-436e-9562-ce14e3c6c393",
   "metadata": {},
   "outputs": [],
   "source": [
    "# movies_data.head()"
   ]
  },
  {
   "cell_type": "code",
   "execution_count": 42,
   "id": "52d4ba52-4342-4224-bc33-e04f941f57da",
   "metadata": {},
   "outputs": [],
   "source": [
    "# movies_data.shape"
   ]
  },
  {
   "cell_type": "code",
   "execution_count": 5,
   "id": "e8c7c1cc-e3b4-44e6-abf4-4111c1f5bbca",
   "metadata": {},
   "outputs": [],
   "source": [
    "selected_features = ['genres','keywords','tagline','cast','director']\n",
    "for feature in selected_features:\n",
    "  movies_data[feature] = movies_data[feature].fillna('')"
   ]
  },
  {
   "cell_type": "code",
   "execution_count": 6,
   "id": "26ec6523-a787-46d4-a5a9-eb0d2801a1c4",
   "metadata": {},
   "outputs": [
    {
     "name": "stdout",
     "output_type": "stream",
     "text": [
      "0       Action Adventure Fantasy Science Fiction cultu...\n",
      "1       Adventure Fantasy Action ocean drug abuse exot...\n",
      "2       Action Adventure Crime spy based on novel secr...\n",
      "3       Action Crime Drama Thriller dc comics crime fi...\n",
      "4       Action Adventure Science Fiction based on nove...\n",
      "                              ...                        \n",
      "4798    Action Crime Thriller united states\\u2013mexic...\n",
      "4799    Comedy Romance  A newlywed couple's honeymoon ...\n",
      "4800    Comedy Drama Romance TV Movie date love at fir...\n",
      "4801      A New Yorker in Shanghai Daniel Henney Eliza...\n",
      "4802    Documentary obsession camcorder crush dream gi...\n",
      "Length: 4803, dtype: object\n"
     ]
    }
   ],
   "source": [
    "combined_features = movies_data['genres']+' '+movies_data['keywords']+' '+movies_data['tagline']+' '+movies_data['cast']+' '+movies_data['director']\n",
    "print(combined_features)"
   ]
  },
  {
   "cell_type": "code",
   "execution_count": 27,
   "id": "d92b5ca7-1a9c-43ee-aa9c-d604edd4c65d",
   "metadata": {},
   "outputs": [],
   "source": [
    "vectorizer = TfidfVectorizer()\n",
    "feature_vectors = vectorizer.fit_transform(combined_features)\n",
    "# print(feature_vectors)"
   ]
  },
  {
   "cell_type": "code",
   "execution_count": 44,
   "id": "3bd6455c-283e-4db1-b7ce-196b116f0e41",
   "metadata": {},
   "outputs": [],
   "source": [
    "similarity = cosine_similarity(feature_vectors)\n",
    "# print(similarity)"
   ]
  },
  {
   "cell_type": "code",
   "execution_count": 9,
   "id": "d8fee426-750a-4f46-8753-7fa9d6b19632",
   "metadata": {},
   "outputs": [
    {
     "name": "stdout",
     "output_type": "stream",
     "text": [
      "(4803, 4803)\n"
     ]
    }
   ],
   "source": [
    "print(similarity.shape)"
   ]
  },
  {
   "cell_type": "code",
   "execution_count": 25,
   "id": "3e07f940-de60-45fa-bc17-be81adc18e51",
   "metadata": {},
   "outputs": [],
   "source": [
    "list_of_all_titles = movies_data['title'].tolist()\n",
    "# print(list_of_all_titles)"
   ]
  },
  {
   "cell_type": "code",
   "execution_count": 39,
   "id": "7aa52683-322d-4f6f-96cb-7ba0a0a4f518",
   "metadata": {},
   "outputs": [],
   "source": [
    "def predict(movie_title):\n",
    "    find_close_match = difflib.get_close_matches(movie_title, list_of_all_titles)\n",
    "    return find_close_match"
   ]
  },
  {
   "cell_type": "code",
   "execution_count": 40,
   "id": "31002520-273f-457c-be5c-e2c82b0b8dc9",
   "metadata": {},
   "outputs": [
    {
     "name": "stdout",
     "output_type": "stream",
     "text": [
      "['Iron Man', 'Iron Man 3', 'Iron Man 2']\n"
     ]
    }
   ],
   "source": [
    "# movie_name = input(' Enter your favourite movie name : ')\n",
    "# find_close_match = difflib.get_close_matches(movie_name, list_of_all_titles)\n",
    "print(predict('iron man'))"
   ]
  },
  {
   "cell_type": "code",
   "execution_count": 49,
   "id": "8c4b6b88-4483-4206-8c4d-24b799f38598",
   "metadata": {},
   "outputs": [
    {
     "name": "stdout",
     "output_type": "stream",
     "text": [
      "Iron Man\n"
     ]
    }
   ],
   "source": [
    "close_match = predict('iron man')[0]\n",
    "print(close_match)"
   ]
  },
  {
   "cell_type": "code",
   "execution_count": 13,
   "id": "dd7e4f94-4504-4104-9cd0-a680bb3800fc",
   "metadata": {},
   "outputs": [
    {
     "name": "stdout",
     "output_type": "stream",
     "text": [
      "159\n"
     ]
    }
   ],
   "source": [
    "index_of_the_movie = movies_data[movies_data.title == close_match]['index'].values[0]\n",
    "print(index_of_the_movie)"
   ]
  },
  {
   "cell_type": "code",
   "execution_count": 21,
   "id": "bb4ea496-33e0-481f-856e-63526f7ea778",
   "metadata": {},
   "outputs": [],
   "source": [
    "similarity_score = list(enumerate(similarity[index_of_the_movie]))\n",
    "# print(similarity_score)"
   ]
  },
  {
   "cell_type": "code",
   "execution_count": 15,
   "id": "45763b3d-9273-4aab-a24a-ce17f27d0fa1",
   "metadata": {},
   "outputs": [
    {
     "data": {
      "text/plain": [
       "4803"
      ]
     },
     "execution_count": 15,
     "metadata": {},
     "output_type": "execute_result"
    }
   ],
   "source": [
    "len(similarity_score)"
   ]
  },
  {
   "cell_type": "code",
   "execution_count": 51,
   "id": "477da2a2-9d7d-4031-bc25-4dabd465519e",
   "metadata": {},
   "outputs": [],
   "source": [
    "sorted_similar_movies = sorted(similarity_score, key = lambda x:x[1], reverse = True) \n",
    "# print(sorted_similar_movies)"
   ]
  },
  {
   "cell_type": "code",
   "execution_count": 52,
   "id": "04474fd2-f7e4-40a5-8222-8de4a037bfb4",
   "metadata": {},
   "outputs": [
    {
     "name": "stdout",
     "output_type": "stream",
     "text": [
      "Movies suggested for you : \n",
      "\n",
      "['Batman', 'Batman Returns', 'Batman & Robin', 'The Dark Knight Rises', 'Batman Begins', 'The Dark Knight', 'A History of Violence', 'Superman', 'Beetlejuice', 'Bedazzled', 'Mars Attacks!', 'The Sentinel', 'Planet of the Apes', 'Man of Steel', 'Suicide Squad', 'The Mask', 'Salton Sea', 'Spider-Man 3', 'The Postman Always Rings Twice', \"Hang 'em High\", 'Spider-Man 2', 'Dungeons & Dragons: Wrath of the Dragon God', 'Superman Returns', 'Jonah Hex', 'Exorcist II: The Heretic', 'Superman II', 'Green Lantern', 'Superman III', \"Something's Gotta Give\"]\n"
     ]
    }
   ],
   "source": [
    "print('Movies suggested for you : \\n')\n",
    "\n",
    "def sort_similar_movies(movie_name):\n",
    "    i = 1\n",
    "    movies=[]\n",
    "\n",
    "    for movie in sorted_similar_movies:\n",
    "      index = movie[0]\n",
    "      title_from_index = movies_data[movies_data.index==index]['title'].values[0]\n",
    "      if (i<30):\n",
    "        movies.append(title_from_index)\n",
    "        # print(i, '.',title_from_index)\n",
    "        i+=1\n",
    "\n",
    "    return movies\n",
    "\n",
    "\n",
    "print(sort_similar_movies('batman'))\n"
   ]
  },
  {
   "cell_type": "code",
   "execution_count": 18,
   "id": "253b1505-28f3-4d18-8749-dcf1ef962fd2",
   "metadata": {},
   "outputs": [
    {
     "name": "stdin",
     "output_type": "stream",
     "text": [
      " Enter your favourite movie name :  batman\n"
     ]
    },
    {
     "name": "stdout",
     "output_type": "stream",
     "text": [
      "Movies suggested for you : \n",
      "\n",
      "1 . Batman\n",
      "2 . Batman Returns\n",
      "3 . Batman & Robin\n",
      "4 . The Dark Knight Rises\n",
      "5 . Batman Begins\n",
      "6 . The Dark Knight\n",
      "7 . A History of Violence\n",
      "8 . Superman\n",
      "9 . Beetlejuice\n",
      "10 . Bedazzled\n",
      "11 . Mars Attacks!\n",
      "12 . The Sentinel\n",
      "13 . Planet of the Apes\n",
      "14 . Man of Steel\n",
      "15 . Suicide Squad\n",
      "16 . The Mask\n",
      "17 . Salton Sea\n",
      "18 . Spider-Man 3\n",
      "19 . The Postman Always Rings Twice\n",
      "20 . Hang 'em High\n",
      "21 . Spider-Man 2\n",
      "22 . Dungeons & Dragons: Wrath of the Dragon God\n",
      "23 . Superman Returns\n",
      "24 . Jonah Hex\n",
      "25 . Exorcist II: The Heretic\n",
      "26 . Superman II\n",
      "27 . Green Lantern\n",
      "28 . Superman III\n",
      "29 . Something's Gotta Give\n"
     ]
    }
   ],
   "source": [
    "movie_name = input(' Enter your favourite movie name : ')\n",
    "\n",
    "list_of_all_titles = movies_data['title'].tolist()\n",
    "\n",
    "find_close_match = difflib.get_close_matches(movie_name, list_of_all_titles)\n",
    "\n",
    "close_match = find_close_match[0]\n",
    "\n",
    "index_of_the_movie = movies_data[movies_data.title == close_match]['index'].values[0]\n",
    "\n",
    "similarity_score = list(enumerate(similarity[index_of_the_movie]))\n",
    "\n",
    "sorted_similar_movies = sorted(similarity_score, key = lambda x:x[1], reverse = True) \n",
    "\n",
    "print('Movies suggested for you : \\n')\n",
    "\n",
    "i = 1\n",
    "\n",
    "for movie in sorted_similar_movies:\n",
    "  index = movie[0]\n",
    "  title_from_index = movies_data[movies_data.index==index]['title'].values[0]\n",
    "  if (i<30):\n",
    "    print(i, '.',title_from_index)\n",
    "    i+=1"
   ]
  },
  {
   "cell_type": "code",
   "execution_count": 56,
   "id": "39e5dd3a-c77c-47ec-926e-d8b9725a73c0",
   "metadata": {},
   "outputs": [
    {
     "data": {
      "text/plain": [
       "['similarity.pkl']"
      ]
     },
     "execution_count": 56,
     "metadata": {},
     "output_type": "execute_result"
    }
   ],
   "source": [
    "import joblib\n",
    "\n",
    "# Save the trained model\n",
    "# joblib.dump(feature_vectors, 'vectorizer.pkl')\n",
    "joblib.dump(sorted_similar_movies, 'similarity.pkl')"
   ]
  },
  {
   "cell_type": "code",
   "execution_count": null,
   "id": "a43c289c-165a-4b90-b6b2-caf745dee2d3",
   "metadata": {},
   "outputs": [],
   "source": []
  }
 ],
 "metadata": {
  "kernelspec": {
   "display_name": "Python 3 (ipykernel)",
   "language": "python",
   "name": "python3"
  },
  "language_info": {
   "codemirror_mode": {
    "name": "ipython",
    "version": 3
   },
   "file_extension": ".py",
   "mimetype": "text/x-python",
   "name": "python",
   "nbconvert_exporter": "python",
   "pygments_lexer": "ipython3",
   "version": "3.11.4"
  }
 },
 "nbformat": 4,
 "nbformat_minor": 5
}
